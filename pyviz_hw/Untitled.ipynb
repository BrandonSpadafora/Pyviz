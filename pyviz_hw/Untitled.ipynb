{
 "cells": [
  {
   "cell_type": "code",
   "execution_count": null,
   "id": "6179e73c",
   "metadata": {},
   "outputs": [],
   "source": [
    "#python Calculator"
   ]
  },
  {
   "cell_type": "code",
   "execution_count": null,
   "id": "57e4954a",
   "metadata": {},
   "outputs": [],
   "source": [
    "num1 = float(input (\"enter first number: \"))\n"
   ]
  },
  {
   "cell_type": "code",
   "execution_count": null,
   "id": "30912600",
   "metadata": {},
   "outputs": [],
   "source": [
    "num2 = float(input(\"Please enter percent: \"))"
   ]
  },
  {
   "cell_type": "code",
   "execution_count": null,
   "id": "01015d93",
   "metadata": {},
   "outputs": [],
   "source": [
    "x = 100/(num2)"
   ]
  },
  {
   "cell_type": "code",
   "execution_count": null,
   "id": "98d02016",
   "metadata": {},
   "outputs": [],
   "source": [
    "y = num1 * num2"
   ]
  },
  {
   "cell_type": "code",
   "execution_count": null,
   "id": "b1e0a3b3",
   "metadata": {},
   "outputs": [],
   "source": [
    "result = x + num1"
   ]
  },
  {
   "cell_type": "code",
   "execution_count": null,
   "id": "f50ade86",
   "metadata": {},
   "outputs": [],
   "source": [
    "print(result)"
   ]
  },
  {
   "cell_type": "code",
   "execution_count": null,
   "id": "f9613ebd",
   "metadata": {},
   "outputs": [],
   "source": []
  }
 ],
 "metadata": {
  "kernelspec": {
   "display_name": "Python 3 (ipykernel)",
   "language": "python",
   "name": "python3"
  },
  "language_info": {
   "codemirror_mode": {
    "name": "ipython",
    "version": 3
   },
   "file_extension": ".py",
   "mimetype": "text/x-python",
   "name": "python",
   "nbconvert_exporter": "python",
   "pygments_lexer": "ipython3",
   "version": "3.8.8"
  }
 },
 "nbformat": 4,
 "nbformat_minor": 5
}
